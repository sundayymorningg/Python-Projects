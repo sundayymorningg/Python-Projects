{
 "cells": [
  {
   "cell_type": "code",
   "execution_count": 24,
   "id": "6cc1c699",
   "metadata": {},
   "outputs": [],
   "source": [
    "from scipy.optimize import fsolve\n",
    "#n-octane Peng-Robinson equation\n",
    "def specificvolPR(v,p):\n",
    "    # for n-octane\n",
    "    Tc=568.8 #K\n",
    "    pc=24.5  #atm\n",
    "    T=600    #K\n",
    "    R=0.08206 #l/gmol\n",
    "    acentric=0.397\n",
    "    mPR=0.37363+(1.54226-0.26992*acentric)*acentric\n",
    "    alphaPR=(1 + mPR* (1-(T/Tc)**0.5))**2\n",
    "    aPR=0.45724*alphaPR*(R*Tc)**2/pc\n",
    "    bPR=0.07780*(R*Tc/pc)\n",
    "    return p*v**3+(bPR*p-R*T)*v**2+(aPR-p*bPR**2-R*T*bPR)*v+(p*bPR**3+R*T*bPR**2-aPR*bPR)"
   ]
  },
  {
   "cell_type": "code",
   "execution_count": 25,
   "id": "7f8f6f43",
   "metadata": {},
   "outputs": [
    {
     "name": "stdout",
     "output_type": "stream",
     "text": [
      "-104.75179577815825\n"
     ]
    }
   ],
   "source": [
    "print(specificvolPR(2,4))"
   ]
  },
  {
   "cell_type": "code",
   "execution_count": 29,
   "id": "91fc5830",
   "metadata": {},
   "outputs": [
    {
     "ename": "TypeError",
     "evalue": "specificvolPR() missing 1 required positional argument: 'p'",
     "output_type": "error",
     "traceback": [
      "\u001b[1;31m---------------------------------------------------------------------------\u001b[0m",
      "\u001b[1;31mTypeError\u001b[0m                                 Traceback (most recent call last)",
      "Cell \u001b[1;32mIn[29], line 1\u001b[0m\n\u001b[1;32m----> 1\u001b[0m v\u001b[38;5;241m=\u001b[39mfsolve(specificvolPR,(\u001b[38;5;241m2\u001b[39m,\u001b[38;5;241m4\u001b[39m))\n\u001b[0;32m      2\u001b[0m \u001b[38;5;28mprint\u001b[39m(v,p)\n",
      "File \u001b[1;32m~\\anaconda3\\Lib\\site-packages\\scipy\\optimize\\_minpack_py.py:162\u001b[0m, in \u001b[0;36mfsolve\u001b[1;34m(func, x0, args, fprime, full_output, col_deriv, xtol, maxfev, band, epsfcn, factor, diag)\u001b[0m\n\u001b[0;32m     50\u001b[0m \u001b[38;5;250m\u001b[39m\u001b[38;5;124;03m\"\"\"\u001b[39;00m\n\u001b[0;32m     51\u001b[0m \u001b[38;5;124;03mFind the roots of a function.\u001b[39;00m\n\u001b[0;32m     52\u001b[0m \n\u001b[1;32m   (...)\u001b[0m\n\u001b[0;32m    152\u001b[0m \n\u001b[0;32m    153\u001b[0m \u001b[38;5;124;03m\"\"\"\u001b[39;00m\n\u001b[0;32m    154\u001b[0m options \u001b[38;5;241m=\u001b[39m {\u001b[38;5;124m'\u001b[39m\u001b[38;5;124mcol_deriv\u001b[39m\u001b[38;5;124m'\u001b[39m: col_deriv,\n\u001b[0;32m    155\u001b[0m            \u001b[38;5;124m'\u001b[39m\u001b[38;5;124mxtol\u001b[39m\u001b[38;5;124m'\u001b[39m: xtol,\n\u001b[0;32m    156\u001b[0m            \u001b[38;5;124m'\u001b[39m\u001b[38;5;124mmaxfev\u001b[39m\u001b[38;5;124m'\u001b[39m: maxfev,\n\u001b[1;32m   (...)\u001b[0m\n\u001b[0;32m    159\u001b[0m            \u001b[38;5;124m'\u001b[39m\u001b[38;5;124mfactor\u001b[39m\u001b[38;5;124m'\u001b[39m: factor,\n\u001b[0;32m    160\u001b[0m            \u001b[38;5;124m'\u001b[39m\u001b[38;5;124mdiag\u001b[39m\u001b[38;5;124m'\u001b[39m: diag}\n\u001b[1;32m--> 162\u001b[0m res \u001b[38;5;241m=\u001b[39m _root_hybr(func, x0, args, jac\u001b[38;5;241m=\u001b[39mfprime, \u001b[38;5;241m*\u001b[39m\u001b[38;5;241m*\u001b[39moptions)\n\u001b[0;32m    163\u001b[0m \u001b[38;5;28;01mif\u001b[39;00m full_output:\n\u001b[0;32m    164\u001b[0m     x \u001b[38;5;241m=\u001b[39m res[\u001b[38;5;124m'\u001b[39m\u001b[38;5;124mx\u001b[39m\u001b[38;5;124m'\u001b[39m]\n",
      "File \u001b[1;32m~\\anaconda3\\Lib\\site-packages\\scipy\\optimize\\_minpack_py.py:228\u001b[0m, in \u001b[0;36m_root_hybr\u001b[1;34m(func, x0, args, jac, col_deriv, xtol, maxfev, band, eps, factor, diag, **unknown_options)\u001b[0m\n\u001b[0;32m    226\u001b[0m \u001b[38;5;28;01mif\u001b[39;00m \u001b[38;5;129;01mnot\u001b[39;00m \u001b[38;5;28misinstance\u001b[39m(args, \u001b[38;5;28mtuple\u001b[39m):\n\u001b[0;32m    227\u001b[0m     args \u001b[38;5;241m=\u001b[39m (args,)\n\u001b[1;32m--> 228\u001b[0m shape, dtype \u001b[38;5;241m=\u001b[39m _check_func(\u001b[38;5;124m'\u001b[39m\u001b[38;5;124mfsolve\u001b[39m\u001b[38;5;124m'\u001b[39m, \u001b[38;5;124m'\u001b[39m\u001b[38;5;124mfunc\u001b[39m\u001b[38;5;124m'\u001b[39m, func, x0, args, n, (n,))\n\u001b[0;32m    229\u001b[0m \u001b[38;5;28;01mif\u001b[39;00m epsfcn \u001b[38;5;129;01mis\u001b[39;00m \u001b[38;5;28;01mNone\u001b[39;00m:\n\u001b[0;32m    230\u001b[0m     epsfcn \u001b[38;5;241m=\u001b[39m finfo(dtype)\u001b[38;5;241m.\u001b[39meps\n",
      "File \u001b[1;32m~\\anaconda3\\Lib\\site-packages\\scipy\\optimize\\_minpack_py.py:25\u001b[0m, in \u001b[0;36m_check_func\u001b[1;34m(checker, argname, thefunc, x0, args, numinputs, output_shape)\u001b[0m\n\u001b[0;32m     23\u001b[0m \u001b[38;5;28;01mdef\u001b[39;00m \u001b[38;5;21m_check_func\u001b[39m(checker, argname, thefunc, x0, args, numinputs,\n\u001b[0;32m     24\u001b[0m                 output_shape\u001b[38;5;241m=\u001b[39m\u001b[38;5;28;01mNone\u001b[39;00m):\n\u001b[1;32m---> 25\u001b[0m     res \u001b[38;5;241m=\u001b[39m atleast_1d(thefunc(\u001b[38;5;241m*\u001b[39m((x0[:numinputs],) \u001b[38;5;241m+\u001b[39m args)))\n\u001b[0;32m     26\u001b[0m     \u001b[38;5;28;01mif\u001b[39;00m (output_shape \u001b[38;5;129;01mis\u001b[39;00m \u001b[38;5;129;01mnot\u001b[39;00m \u001b[38;5;28;01mNone\u001b[39;00m) \u001b[38;5;129;01mand\u001b[39;00m (shape(res) \u001b[38;5;241m!=\u001b[39m output_shape):\n\u001b[0;32m     27\u001b[0m         \u001b[38;5;28;01mif\u001b[39;00m (output_shape[\u001b[38;5;241m0\u001b[39m] \u001b[38;5;241m!=\u001b[39m \u001b[38;5;241m1\u001b[39m):\n",
      "\u001b[1;31mTypeError\u001b[0m: specificvolPR() missing 1 required positional argument: 'p'"
     ]
    }
   ],
   "source": [
    "v=fsolve(specificvolPR,(2,4))\n",
    "print(v,p)"
   ]
  },
  {
   "cell_type": "code",
   "execution_count": 35,
   "id": "e67b0f6e",
   "metadata": {},
   "outputs": [],
   "source": [
    "from scipy.optimize import fsolve\n",
    "#specific volume of n-octane using Redlich-kwong equation of state\n",
    "def specificvol(v):\n",
    "    # for n-octane\n",
    "    Tc=568.8 #K\n",
    "    pc=24.5  #atm\n",
    "    T=600    #K\n",
    "    p=20     #atm\n",
    "    R=0.08206 #l/gmol\n",
    "    aRK=0.42748*(R*Tc)**2/pc\n",
    "    aRK=aRK*(Tc/T)**0.5\n",
    "    bRK=0.08664*(R*Tc/pc)\n",
    "    return p*v**3-R*T*v**2+(aRK-p*bRK**2-R*T*bRK)*v-aRK*bRK"
   ]
  },
  {
   "cell_type": "code",
   "execution_count": 33,
   "id": "499958b2",
   "metadata": {},
   "outputs": [
    {
     "name": "stdout",
     "output_type": "stream",
     "text": [
      "13.626115914387217\n"
     ]
    }
   ],
   "source": [
    "print(specificvol(2))"
   ]
  },
  {
   "cell_type": "code",
   "execution_count": 34,
   "id": "a18baec2",
   "metadata": {},
   "outputs": [
    {
     "name": "stdout",
     "output_type": "stream",
     "text": [
      "[1.75281907]\n"
     ]
    }
   ],
   "source": [
    "v=fsolve(specificvol,2)\n",
    "print(v)"
   ]
  },
  {
   "cell_type": "code",
   "execution_count": 39,
   "id": "cf0dfebe",
   "metadata": {},
   "outputs": [],
   "source": [
    "#python code to compute the compressibility factor for a number of pressure values.\n",
    "from scipy.optimize import fsolve\n",
    "import numpy as np\n",
    "import matplotlib.pyplot as plt\n",
    "\n",
    "#n-octane Redlich kwong equation\n",
    "def specificvolRK(v,p):\n",
    "    # for n-octane\n",
    "    Tc=568.8 #K\n",
    "    pc=24.5  #atm\n",
    "    T=600    #K\n",
    "    R=0.08206 #l/gmol\n",
    "    aRK=0.42748*(R*Tc)**2/pc\n",
    "    aRK=aRK*(Tc/T)**0.5\n",
    "    bRK=0.08664*(R*Tc/pc)\n",
    "    return p*v**3-R*T*v**2+(aRK-p*bRK**2-R*T*bRK)*v-aRK*bRK"
   ]
  },
  {
   "cell_type": "code",
   "execution_count": 47,
   "id": "a4e273fd",
   "metadata": {},
   "outputs": [
    {
     "name": "stdout",
     "output_type": "stream",
     "text": [
      "[ 1  6 11 16 21 26]\n",
      "1\n",
      "26\n",
      "[0. 0. 0. 0. 0. 0.]\n"
     ]
    }
   ],
   "source": [
    "T=600\n",
    "R=0.08206\n",
    "pressure=np.arange(1,27,5)\n",
    "print(pressure)\n",
    "print(pressure[0])\n",
    "print(pressure[5])\n",
    "zcompRK=np.zeros(6,dtype=float)\n",
    "zcompRKS=np.zeros(6,dtype=float)\n",
    "zcompPR=np.zeros(6,dtype=float)\n",
    "print(zcompRK)"
   ]
  },
  {
   "cell_type": "code",
   "execution_count": 50,
   "id": "85bab1ef",
   "metadata": {},
   "outputs": [],
   "source": [
    "for i in range (0,6,1):\n",
    "    p=pressure[i]\n",
    "    guess=R*T/p\n",
    "    y=fsolve(specificvolRK,guess,p)\n",
    "    z=p*v/(R*T)\n",
    "    zcompRK[i]=z"
   ]
  },
  {
   "cell_type": "code",
   "execution_count": 51,
   "id": "ccf89124",
   "metadata": {},
   "outputs": [
    {
     "name": "stdout",
     "output_type": "stream",
     "text": [
      "[0.03560035 0.21360213 0.3916039  0.56960568 0.74760745 0.92560923]\n"
     ]
    },
    {
     "data": {
      "image/png": "[encoded data removed]",
      "text/plain": [
       "<Figure size 640x480 with 1 Axes>"
      ]
     },
     "metadata": {},
     "output_type": "display_data"
    }
   ],
   "source": [
    "print(zcompRK)\n",
    "plt.plot(pressure,zcompRK,'o-g',label='Redlich-Kwong')\n",
    "plt.legend(loc='best')\n",
    "plt.xlabel('Pressure(atm)')\n",
    "plt.ylabel('Z')\n",
    "plt.title('n-octane')\n",
    "plt.show()"
   ]
  },
  {
   "cell_type": "code",
   "execution_count": null,
   "id": "119269bd",
   "metadata": {},
   "outputs": [],
   "source": []
  }
 ],
 "metadata": {
  "kernelspec": {
   "display_name": "Python 3 (ipykernel)",
   "language": "python",
   "name": "python3"
  },
  "language_info": {
   "codemirror_mode": {
    "name": "ipython",
    "version": 3
   },
   "file_extension": ".py",
   "mimetype": "text/x-python",
   "name": "python",
   "nbconvert_exporter": "python",
   "pygments_lexer": "ipython3",
   "version": "3.11.5"
  }
 },
 "nbformat": 4,
 "nbformat_minor": 5
}
