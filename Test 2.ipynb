{
 "cells": [
  {
   "cell_type": "code",
   "execution_count": 24,
   "id": "af570f1c",
   "metadata": {},
   "outputs": [
    {
     "data": {
      "image/png": "[encoded data removed]",
      "text/plain": [
       "<Figure size 640x480 with 1 Axes>"
      ]
     },
     "metadata": {},
     "output_type": "display_data"
    }
   ],
   "source": [
    "#import library\n",
    "import numpy as np\n",
    "import scipy as sc\n",
    "from scipy.integrate import odeint\n",
    "import matplotlib.pyplot as plt\n",
    "\n",
    "#differential equation\n",
    "def dydt(y,t):\n",
    "    dydt=-2*y*t\n",
    "    return dydt\n",
    "\n",
    "#Initial condition\n",
    "y0=1\n",
    "\n",
    "#create x-axis for integration\n",
    "start=0\n",
    "end=2\n",
    "\n",
    "t=np.linspace(start,end,10)\n",
    "\n",
    "#integration of differential equation\n",
    "y=sc.integrate.odeint(dydt,y0,t)\n",
    "\n",
    "#plot result\n",
    "plt.figure()\n",
    "plt.plot(t, y, 'r')\n",
    "plt.title(f'dydt')\n",
    "plt.xlabel('t')\n",
    "plt.ylabel('y(t)')\n",
    "plt.show()"
   ]
  },
  {
   "cell_type": "code",
   "execution_count": 16,
   "id": "79f4cda4",
   "metadata": {},
   "outputs": [
    {
     "name": "stdout",
     "output_type": "stream",
     "text": [
      "[[ 4.5]\n",
      " [-7.5]\n",
      " [ 6.5]]\n"
     ]
    }
   ],
   "source": [
    "#import library\n",
    "import numpy as np\n",
    "from numpy.linalg import solve\n",
    "\n",
    "A=np.array([[2,4,6],[5,3,2],[7,8,9]])  #define coefficient matrix A\n",
    "\n",
    "B=np.array([[18],[13],[30]])  #define constant vector B\n",
    "\n",
    "solution=solve(A,B) #use solve function to find solution vector\n",
    "print(solution)"
   ]
  },
  {
   "cell_type": "code",
   "execution_count": null,
   "id": "018a89a8",
   "metadata": {},
   "outputs": [],
   "source": [
    "https://api.open-meteo.com/v1/forecast?latitude=2.5&longitude=112.5&hourly=temperature_2m&timezone=Asia%2FSingapore&forecast_days=1"
   ]
  },
  {
   "cell_type": "code",
   "execution_count": 43,
   "id": "7a86a158",
   "metadata": {},
   "outputs": [
    {
     "name": "stdout",
     "output_type": "stream",
     "text": [
      "Enter the number of forecast days (1-16): 1\n",
      "Unexpected response format:\n",
      "{'latitude': 2.375, 'longitude': 112.5, 'generationtime_ms': 0.0010728836059570312, 'utc_offset_seconds': 28800, 'timezone': 'Asia/Singapore', 'timezone_abbreviation': '+08', 'elevation': 272.0}\n"
     ]
    }
   ],
   "source": [
    "import requests\n",
    "import matplotlib.pyplot as plt\n",
    "from datetime import datetime\n",
    "\n",
    "def get_weather_data(latitude, longitude, forecast_days):\n",
    "    base_url = \"https://api.open-meteo.com/v1/forecast\"\n",
    "    params = {\n",
    "        \"latitude\": latitude,\n",
    "        \"longitude\": longitude,\n",
    "        \"timezone\": \"Asia/Singapore\",\n",
    "        \"forecast_days\": forecast_days,\n",
    "        \"hourly-temperature_2m\": True,\n",
    "    }\n",
    "\n",
    "    response = requests.get(base_url, params=params)\n",
    "\n",
    "    if response.status_code == 200:\n",
    "        data = response.json()\n",
    "        \n",
    "        # Check if temperature data is available directly\n",
    "        if \"values\" in data:\n",
    "            return data\n",
    "        else:\n",
    "            try:\n",
    "                return data[\"hourly\"][\"temperature_2m\"]\n",
    "            except KeyError:\n",
    "                print(\"Unexpected response format:\")\n",
    "                print(data)\n",
    "                return None\n",
    "    else:\n",
    "        print(f\"Failed to retrieve data. Status code: {response.status_code}\")\n",
    "        return None\n",
    "\n",
    "def plot_temperature_trend(latitude, longitude, elevation, days, temperature_data):\n",
    "    if \"values\" in temperature_data:\n",
    "        timestamps = [datetime.fromtimestamp(ts) for ts in temperature_data[\"timestamps\"]]\n",
    "        temperatures = temperature_data[\"values\"]\n",
    "    else:\n",
    "        timestamps = [datetime.fromtimestamp(ts) for ts in temperature_data[\"timestamps\"]]\n",
    "        temperatures = temperature_data\n",
    "\n",
    "    plt.plot(timestamps, temperatures, marker='o', linestyle='-', color='b')\n",
    "    plt.title(f\"Temperature Trend\\nLocation: Lat={latitude}, Lon={longitude}, Elev={elevation}m\\nForecast Days: {days}\")\n",
    "    plt.xlabel(\"Time\")\n",
    "    plt.ylabel(\"Temperature (°C)\")\n",
    "    plt.xticks(rotation=45)\n",
    "    plt.grid(True)\n",
    "    plt.show()\n",
    "\n",
    "def main():\n",
    "    days = int(input(\"Enter the number of forecast days (1-16): \"))\n",
    "    \n",
    "    if 1 <= days <= 16:\n",
    "        latitude, longitude = 2.5, 112.5  # Replace with desired coordinates\n",
    "\n",
    "        temperature_data = get_weather_data(latitude, longitude, days)\n",
    "\n",
    "        if temperature_data:\n",
    "            plot_temperature_trend(latitude, longitude, \"N/A\", days, temperature_data)\n",
    "    else:\n",
    "        print(\"Invalid input. Please enter a number between 1 and 16.\")\n",
    "\n",
    "if __name__ == \"__main__\":\n",
    "    main()\n"
   ]
  },
  {
   "cell_type": "code",
   "execution_count": null,
   "id": "0c29985f",
   "metadata": {},
   "outputs": [],
   "source": []
  }
 ],
 "metadata": {
  "kernelspec": {
   "display_name": "Python 3 (ipykernel)",
   "language": "python",
   "name": "python3"
  },
  "language_info": {
   "codemirror_mode": {
    "name": "ipython",
    "version": 3
   },
   "file_extension": ".py",
   "mimetype": "text/x-python",
   "name": "python",
   "nbconvert_exporter": "python",
   "pygments_lexer": "ipython3",
   "version": "3.11.5"
  }
 },
 "nbformat": 4,
 "nbformat_minor": 5
}
