{
 "cells": [
  {
   "cell_type": "code",
   "execution_count": null,
   "id": "e18145dd",
   "metadata": {},
   "outputs": [
    {
     "name": "stdout",
     "output_type": "stream",
     "text": [
      "Enter the first number:5\n",
      "Enter the second number:t\n",
      "Please enter a valid number.\n"
     ]
    }
   ],
   "source": [
    "def simple_calculator():\n",
    "\n",
    "    while True:\n",
    "        try:\n",
    "            number1=float(input(\"Enter the first number:\"))\n",
    "            number2=float(input(\"Enter the second number:\"))\n",
    "            operation=input(\"Enter an operation(+,-,*,/):\")\n",
    "\n",
    "            if operation == '+':\n",
    "                ans=number1+number2\n",
    "        \n",
    "            elif operation == '-':\n",
    "                ans=number1-number2\n",
    "                \n",
    "            elif operation == '*':\n",
    "                ans=number1*number2\n",
    "               \n",
    "            elif operation == '/':\n",
    "                ans=number1/number2\n",
    "                \n",
    "            else:\n",
    "                print(\"Invalid operation. Please choose +,-,*,or,/.\")\n",
    "                continue\n",
    "                \n",
    "            print(\"Answer=\",ans)\n",
    "            break\n",
    "            \n",
    "        except ValueError:\n",
    "          print(\"Please enter a valid number.\")\n",
    "        except ZeroDivisionError:\n",
    "          print(\"Division by zero is not allowed.\")\n",
    "        except Exception as e:\n",
    "          print(\"An unexpected error occured:{e}\")\n",
    "        \n",
    "simple_calculator()"
   ]
  },
  {
   "cell_type": "code",
   "execution_count": null,
   "id": "5cadcf73",
   "metadata": {},
   "outputs": [],
   "source": []
  },
  {
   "cell_type": "code",
   "execution_count": null,
   "id": "5cf558d8",
   "metadata": {},
   "outputs": [],
   "source": []
  }
 ],
 "metadata": {
  "kernelspec": {
   "display_name": "Python 3 (ipykernel)",
   "language": "python",
   "name": "python3"
  },
  "language_info": {
   "codemirror_mode": {
    "name": "ipython",
    "version": 3
   },
   "file_extension": ".py",
   "mimetype": "text/x-python",
   "name": "python",
   "nbconvert_exporter": "python",
   "pygments_lexer": "ipython3",
   "version": "3.11.5"
  }
 },
 "nbformat": 4,
 "nbformat_minor": 5
}
