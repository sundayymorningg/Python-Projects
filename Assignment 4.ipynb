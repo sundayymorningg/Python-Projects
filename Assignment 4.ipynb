{
 "cells": [
  {
   "cell_type": "code",
   "execution_count": 1,
   "id": "c1734b98",
   "metadata": {},
   "outputs": [
    {
     "name": "stdout",
     "output_type": "stream",
     "text": [
      "Checkout Processed by:Sarah Connor\n",
      "\n",
      "Books Checked Out:\n",
      "- 1984\n",
      "- Brave New World\n",
      "\n",
      "Checkout Duration: 3 weeks\n",
      "\n",
      "Additional Checkout Details:\n",
      "- Late Fee: $0.25\n",
      "- Renewals Allowed: 2\n",
      "\n",
      "Special Conditions for Checkout:\n",
      "- Handle with care\n"
     ]
    }
   ],
   "source": [
    "def checkout_books(librarian_name, *book_titles, duration='2 weeks', **kwargs):\n",
    "    print(\"Checkout Processed by:\"+librarian_name)\n",
    "    print(\"\\nBooks Checked Out:\")\n",
    "    for book in book_titles:\n",
    "        print(\"- \"+book)\n",
    "    print(\"\\nCheckout Duration: \"+duration)\n",
    "\n",
    "    if kwargs:\n",
    "        print(\"\\nAdditional Checkout Details:\") \n",
    "        for key, value in kwargs.items():\n",
    "            if key != \"special_conditions\":\n",
    "                print(f\"- {key.title().replace('_', ' ')}: {str(value)}\")\n",
    "            else:\n",
    "                continue \n",
    "                \n",
    "    special_conditions = kwargs.get('special_conditions')\n",
    "    if special_conditions:\n",
    "        print(\"\\nSpecial Conditions for Checkout:\")\n",
    "        print(f\"- {special_conditions}\")\n",
    "\n",
    "# Example usage:\n",
    "checkout_books('Sarah Connor', '1984', 'Brave New World', duration='3 weeks', late_fee='$0.25', renewals_allowed='2', special_conditions='Handle with care')"
   ]
  },
  {
   "cell_type": "code",
   "execution_count": null,
   "id": "2864325b",
   "metadata": {},
   "outputs": [],
   "source": []
  }
 ],
 "metadata": {
  "kernelspec": {
   "display_name": "Python 3 (ipykernel)",
   "language": "python",
   "name": "python3"
  },
  "language_info": {
   "codemirror_mode": {
    "name": "ipython",
    "version": 3
   },
   "file_extension": ".py",
   "mimetype": "text/x-python",
   "name": "python",
   "nbconvert_exporter": "python",
   "pygments_lexer": "ipython3",
   "version": "3.11.5"
  }
 },
 "nbformat": 4,
 "nbformat_minor": 5
}
